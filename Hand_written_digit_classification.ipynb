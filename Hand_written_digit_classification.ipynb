{
  "nbformat": 4,
  "nbformat_minor": 0,
  "metadata": {
    "colab": {
      "provenance": [],
      "include_colab_link": true
    },
    "kernelspec": {
      "name": "python3",
      "display_name": "Python 3"
    },
    "language_info": {
      "name": "python"
    }
  },
  "cells": [
    {
      "cell_type": "markdown",
      "metadata": {
        "id": "view-in-github",
        "colab_type": "text"
      },
      "source": [
        "<a href=\"https://colab.research.google.com/github/sanchalee19/Hand-Written-Digit-Classification-Project/blob/main/Hand_written_digit_classification.ipynb\" target=\"_parent\"><img src=\"https://colab.research.google.com/assets/colab-badge.svg\" alt=\"Open In Colab\"/></a>"
      ]
    },
    {
      "cell_type": "markdown",
      "source": [
        "# IMPORTING LIBRARIES"
      ],
      "metadata": {
        "id": "LDv5ndt6T58E"
      }
    },
    {
      "cell_type": "code",
      "execution_count": null,
      "metadata": {
        "id": "pELLUNVzJWB6"
      },
      "outputs": [],
      "source": [
        "import tensorflow     #library\n",
        "from tensorflow import keras      #keras is a tf API used to build and train neural networks\n",
        "from tensorflow.keras import Sequential              #allows to build neural netwrok layer by layer\n",
        "from tensorflow.keras.layers import Dense,Flatten       #Imports the Dense and Flatten layers from Keras, which are commonly used in neural network architectures."
      ]
    },
    {
      "cell_type": "markdown",
      "source": [
        "# BASIC OPERATIONS"
      ],
      "metadata": {
        "id": "tVjaV6DUUC1v"
      }
    },
    {
      "cell_type": "code",
      "source": [
        "(X_train,y_train),(X_test,y_test) = keras.datasets.mnist.load_data()"
      ],
      "metadata": {
        "id": "KRTH93VyMYF7"
      },
      "execution_count": null,
      "outputs": []
    },
    {
      "cell_type": "code",
      "source": [
        "X_train.shape          #contains 60k images"
      ],
      "metadata": {
        "colab": {
          "base_uri": "https://localhost:8080/"
        },
        "id": "zlXuNUVnhQlF",
        "outputId": "5a589c44-9aff-460b-f743-df3e9abf1a7f"
      },
      "execution_count": null,
      "outputs": [
        {
          "output_type": "execute_result",
          "data": {
            "text/plain": [
              "(60000, 28, 28)"
            ]
          },
          "metadata": {},
          "execution_count": 32
        }
      ]
    },
    {
      "cell_type": "code",
      "source": [
        "y_train.shape          #contains 60k labels (numbers)"
      ],
      "metadata": {
        "colab": {
          "base_uri": "https://localhost:8080/"
        },
        "id": "ncn0e9Djhbrl",
        "outputId": "281635e0-a2b9-4906-e064-cec22d718921"
      },
      "execution_count": null,
      "outputs": [
        {
          "output_type": "execute_result",
          "data": {
            "text/plain": [
              "(60000,)"
            ]
          },
          "metadata": {},
          "execution_count": 38
        }
      ]
    },
    {
      "cell_type": "code",
      "source": [
        "X_test.shape           #contains 10k images"
      ],
      "metadata": {
        "colab": {
          "base_uri": "https://localhost:8080/"
        },
        "id": "m0hHUKoNMpsZ",
        "outputId": "93d38307-b6c1-406b-b1af-3c460ece640b"
      },
      "execution_count": null,
      "outputs": [
        {
          "output_type": "execute_result",
          "data": {
            "text/plain": [
              "(10000, 28, 28)"
            ]
          },
          "metadata": {},
          "execution_count": 39
        }
      ]
    },
    {
      "cell_type": "code",
      "source": [
        "y_test.shape           #contains 10k lables (numbers)"
      ],
      "metadata": {
        "colab": {
          "base_uri": "https://localhost:8080/"
        },
        "id": "3Nnzw95rhcTg",
        "outputId": "01209a4d-bf90-4e3b-d881-b0afed564ce5"
      },
      "execution_count": null,
      "outputs": [
        {
          "output_type": "execute_result",
          "data": {
            "text/plain": [
              "(10000,)"
            ]
          },
          "metadata": {},
          "execution_count": 35
        }
      ]
    },
    {
      "cell_type": "code",
      "source": [
        "y_train       #just a 1D array containing nos 0 - 9 60k times"
      ],
      "metadata": {
        "colab": {
          "base_uri": "https://localhost:8080/"
        },
        "id": "skzwnglnMzl6",
        "outputId": "08e7ab48-cced-4380-96fe-f430baaf945d"
      },
      "execution_count": null,
      "outputs": [
        {
          "output_type": "execute_result",
          "data": {
            "text/plain": [
              "array([5, 0, 4, ..., 5, 6, 8], dtype=uint8)"
            ]
          },
          "metadata": {},
          "execution_count": 30
        }
      ]
    },
    {
      "cell_type": "code",
      "source": [
        "y_test        # just a 1D array containing nos 0 - 9 10k times"
      ],
      "metadata": {
        "colab": {
          "base_uri": "https://localhost:8080/"
        },
        "id": "GD91F7IuwGKY",
        "outputId": "46b0c500-692b-4890-849a-29f8c8b9db4f"
      },
      "execution_count": null,
      "outputs": [
        {
          "output_type": "execute_result",
          "data": {
            "text/plain": [
              "array([7, 2, 1, ..., 4, 5, 6], dtype=uint8)"
            ]
          },
          "metadata": {},
          "execution_count": 41
        }
      ]
    },
    {
      "cell_type": "markdown",
      "source": [
        "#SAMPLE IMAGE\n",
        "\n",
        "Displays the 3rd image present in the training dataset.\n",
        "Matplotlib is a popular plotting library in Python.\n",
        "imshow() is a function for displaying images in Matplotlib."
      ],
      "metadata": {
        "id": "xp9Ai5mQUn2N"
      }
    },
    {
      "cell_type": "code",
      "source": [
        "import matplotlib.pyplot as plt\n",
        "plt.imshow(X_train[2])                  #2nd image of x_train."
      ],
      "metadata": {
        "colab": {
          "base_uri": "https://localhost:8080/",
          "height": 447
        },
        "id": "jr2MuKsKRH5G",
        "outputId": "9304e588-0ac9-41bb-c42c-e8303fa9d2af"
      },
      "execution_count": null,
      "outputs": [
        {
          "output_type": "execute_result",
          "data": {
            "text/plain": [
              "<matplotlib.image.AxesImage at 0x7c100d2dd480>"
            ]
          },
          "metadata": {},
          "execution_count": 37
        },
        {
          "output_type": "display_data",
          "data": {
            "text/plain": [
              "<Figure size 640x480 with 1 Axes>"
            ],
            "image/png": "[encoded data removed]"
          },
          "metadata": {}
        }
      ]
    },
    {
      "cell_type": "markdown",
      "source": [
        "# SCALING\n",
        "Grey scale images like those present in mnist dataset ranges from 0 to 255 pixels. 0 - black , 255 - white. Therefore, by dividing X_train and X_test by 255, the code is effectively scaling the pixel values of the images in both datasets to the range [0, 1], which is a common practice for preprocessing image data before feeding it into a neural network model for training.\n",
        "\n",
        "Note: y_train and y_test are not scaled because they are numbers(text) and not images."
      ],
      "metadata": {
        "id": "iGRgB8F65yyd"
      }
    },
    {
      "cell_type": "code",
      "source": [
        "X_train = X_train/255          # scaling/normalization\n",
        "X_test = X_test/255            # between 0-1 to increase performance"
      ],
      "metadata": {
        "id": "dJmO2WLlRRT1"
      },
      "execution_count": null,
      "outputs": []
    },
    {
      "cell_type": "code",
      "source": [
        "X_train[0]"
      ],
      "metadata": {
        "id": "i1WA9FioRdtB"
      },
      "execution_count": null,
      "outputs": []
    },
    {
      "cell_type": "markdown",
      "source": [
        "# MAKING THE NEURAL NETWORK\n",
        "\n",
        "First use flatten to convert 2D to 1D as there are going to be total 784(28*28) nodes which are going to take values of each pixel but we have input in the form 28x28 so to make it in a vector format we use flatten function.\n",
        "\n",
        "The first two Dense layers have ReLU (Rectified Linear Unit) activation functions, which introduce non-linearity into the model and help the network learn complex patterns in the data.\n",
        "\n",
        "The last Dense layer has a softmax activation function, which is commonly used in multi-class classification problems.\n",
        "\n"
      ],
      "metadata": {
        "id": "27vM2tie7VjO"
      }
    },
    {
      "cell_type": "code",
      "source": [
        "model = Sequential()                           #function to build nn layer by layer\n",
        "\n",
        "model.add(Flatten(input_shape=(28,28)))       #input layer\n",
        "model.add(Dense(128,activation='relu'))       #hidden layer 1\n",
        "model.add(Dense(32,activation='relu'))        #hidden layer 2\n",
        "model.add(Dense(10,activation='softmax'))     #output layer"
      ],
      "metadata": {
        "id": "jr78UU88Rzm6"
      },
      "execution_count": null,
      "outputs": []
    },
    {
      "cell_type": "code",
      "source": [
        "model.summary()"
      ],
      "metadata": {
        "colab": {
          "base_uri": "https://localhost:8080/"
        },
        "id": "ECogPfG5SmNI",
        "outputId": "bb9f8ce0-2e10-429d-cf13-dffeedce29f4"
      },
      "execution_count": null,
      "outputs": [
        {
          "output_type": "stream",
          "name": "stdout",
          "text": [
            "Model: \"sequential\"\n",
            "_________________________________________________________________\n",
            " Layer (type)                Output Shape              Param #   \n",
            "=================================================================\n",
            " flatten (Flatten)           (None, 784)               0         \n",
            "                                                                 \n",
            " dense (Dense)               (None, 128)               100480    \n",
            "                                                                 \n",
            " dense_1 (Dense)             (None, 32)                4128      \n",
            "                                                                 \n",
            " dense_2 (Dense)             (None, 10)                330       \n",
            "                                                                 \n",
            "=================================================================\n",
            "Total params: 104938 (409.91 KB)\n",
            "Trainable params: 104938 (409.91 KB)\n",
            "Non-trainable params: 0 (0.00 Byte)\n",
            "_________________________________________________________________\n"
          ]
        }
      ]
    },
    {
      "cell_type": "markdown",
      "source": [
        "#COMPILE & TRAIN THE MODEL\n",
        "\n",
        "The model.compile() function in Keras is used to configure the model for training. It specifies the loss function, the optimizer, and the metrics to monitor during training.\n",
        "\n",
        "sparse_categorical_crossentropy : used when we haven't performed one hot encoding (0-9)\n",
        "\n",
        "Optimizers are used for updating the model weights during training.\n",
        "\n",
        "metrics: specifies the metrics to monitor during training and evaluation."
      ],
      "metadata": {
        "id": "slFJkJBlV7S7"
      }
    },
    {
      "cell_type": "code",
      "source": [
        "model.compile(loss='sparse_categorical_crossentropy',optimizer='Adam',metrics=['accuracy'])"
      ],
      "metadata": {
        "id": "0yC51WgjSsLV"
      },
      "execution_count": null,
      "outputs": []
    },
    {
      "cell_type": "code",
      "source": [
        "history = model.fit(X_train,y_train,epochs=25,validation_split=0.2)"
      ],
      "metadata": {
        "colab": {
          "base_uri": "https://localhost:8080/"
        },
        "id": "L-fkwmIvWT8M",
        "outputId": "6699f44d-479d-4240-974d-2fec9cb356dd"
      },
      "execution_count": null,
      "outputs": [
        {
          "output_type": "stream",
          "name": "stdout",
          "text": [
            "Epoch 1/25\n",
            "1500/1500 [==============================] - 8s 5ms/step - loss: 0.2916 - accuracy: 0.9161 - val_loss: 0.1540 - val_accuracy: 0.9574\n",
            "Epoch 2/25\n",
            "1500/1500 [==============================] - 6s 4ms/step - loss: 0.1203 - accuracy: 0.9635 - val_loss: 0.1111 - val_accuracy: 0.9678\n",
            "Epoch 3/25\n",
            "1500/1500 [==============================] - 7s 5ms/step - loss: 0.0822 - accuracy: 0.9748 - val_loss: 0.1078 - val_accuracy: 0.9700\n",
            "Epoch 4/25\n",
            "1500/1500 [==============================] - 6s 4ms/step - loss: 0.0629 - accuracy: 0.9803 - val_loss: 0.1144 - val_accuracy: 0.9668\n",
            "Epoch 5/25\n",
            "1500/1500 [==============================] - 7s 5ms/step - loss: 0.0504 - accuracy: 0.9843 - val_loss: 0.0975 - val_accuracy: 0.9721\n",
            "Epoch 6/25\n",
            "1500/1500 [==============================] - 5s 4ms/step - loss: 0.0391 - accuracy: 0.9872 - val_loss: 0.0988 - val_accuracy: 0.9731\n",
            "Epoch 7/25\n",
            "1500/1500 [==============================] - 7s 5ms/step - loss: 0.0311 - accuracy: 0.9899 - val_loss: 0.1033 - val_accuracy: 0.9727\n",
            "Epoch 8/25\n",
            "1500/1500 [==============================] - 5s 4ms/step - loss: 0.0254 - accuracy: 0.9919 - val_loss: 0.1130 - val_accuracy: 0.9741\n",
            "Epoch 9/25\n",
            "1500/1500 [==============================] - 7s 4ms/step - loss: 0.0244 - accuracy: 0.9916 - val_loss: 0.1092 - val_accuracy: 0.9729\n",
            "Epoch 10/25\n",
            "1500/1500 [==============================] - 6s 4ms/step - loss: 0.0205 - accuracy: 0.9931 - val_loss: 0.1151 - val_accuracy: 0.9721\n",
            "Epoch 11/25\n",
            "1500/1500 [==============================] - 7s 5ms/step - loss: 0.0181 - accuracy: 0.9939 - val_loss: 0.1239 - val_accuracy: 0.9718\n",
            "Epoch 12/25\n",
            "1500/1500 [==============================] - 6s 4ms/step - loss: 0.0138 - accuracy: 0.9954 - val_loss: 0.1164 - val_accuracy: 0.9744\n",
            "Epoch 13/25\n",
            "1500/1500 [==============================] - 7s 5ms/step - loss: 0.0134 - accuracy: 0.9952 - val_loss: 0.1306 - val_accuracy: 0.9718\n",
            "Epoch 14/25\n",
            "1500/1500 [==============================] - 6s 4ms/step - loss: 0.0143 - accuracy: 0.9951 - val_loss: 0.1530 - val_accuracy: 0.9703\n",
            "Epoch 15/25\n",
            "1500/1500 [==============================] - 8s 5ms/step - loss: 0.0113 - accuracy: 0.9961 - val_loss: 0.1207 - val_accuracy: 0.9743\n",
            "Epoch 16/25\n",
            "1500/1500 [==============================] - 6s 4ms/step - loss: 0.0118 - accuracy: 0.9962 - val_loss: 0.1662 - val_accuracy: 0.9689\n",
            "Epoch 17/25\n",
            "1500/1500 [==============================] - 7s 5ms/step - loss: 0.0113 - accuracy: 0.9962 - val_loss: 0.1338 - val_accuracy: 0.9754\n",
            "Epoch 18/25\n",
            "1500/1500 [==============================] - 6s 4ms/step - loss: 0.0107 - accuracy: 0.9969 - val_loss: 0.1394 - val_accuracy: 0.9737\n",
            "Epoch 19/25\n",
            "1500/1500 [==============================] - 7s 4ms/step - loss: 0.0106 - accuracy: 0.9963 - val_loss: 0.1406 - val_accuracy: 0.9760\n",
            "Epoch 20/25\n",
            "1500/1500 [==============================] - 6s 4ms/step - loss: 0.0090 - accuracy: 0.9969 - val_loss: 0.2009 - val_accuracy: 0.9692\n",
            "Epoch 21/25\n",
            "1500/1500 [==============================] - 7s 5ms/step - loss: 0.0115 - accuracy: 0.9965 - val_loss: 0.1556 - val_accuracy: 0.9729\n",
            "Epoch 22/25\n",
            "1500/1500 [==============================] - 6s 4ms/step - loss: 0.0061 - accuracy: 0.9978 - val_loss: 0.1513 - val_accuracy: 0.9755\n",
            "Epoch 23/25\n",
            "1500/1500 [==============================] - 7s 5ms/step - loss: 0.0098 - accuracy: 0.9968 - val_loss: 0.1407 - val_accuracy: 0.9767\n",
            "Epoch 24/25\n",
            "1500/1500 [==============================] - 5s 4ms/step - loss: 0.0094 - accuracy: 0.9971 - val_loss: 0.1460 - val_accuracy: 0.9758\n",
            "Epoch 25/25\n",
            "1500/1500 [==============================] - 7s 5ms/step - loss: 0.0091 - accuracy: 0.9970 - val_loss: 0.1608 - val_accuracy: 0.9758\n"
          ]
        }
      ]
    },
    {
      "cell_type": "markdown",
      "source": [
        "#TESTING\n",
        "\n",
        "y_prob will contain the predicted class probabilities for each sample in the test dataset according to the trained model. These probabilities can be used for further analysis, such as evaluating the model's confidence in its predictions, or for computing metrics like accuracy or precision."
      ],
      "metadata": {
        "id": "R9D8THDAjukq"
      }
    },
    {
      "cell_type": "code",
      "source": [
        "y_prob = model.predict(X_test)                    # probability of each digit for 10k images.\n"
      ],
      "metadata": {
        "id": "CazuknkLW_LY"
      },
      "execution_count": null,
      "outputs": []
    },
    {
      "cell_type": "markdown",
      "source": [
        "Probability of 1st image being a 0 is 6.8, 1 is 5.2 and so on"
      ],
      "metadata": {
        "id": "r6LI0-Fsmmw9"
      }
    },
    {
      "cell_type": "code",
      "source": [
        "model.predict(X_test)"
      ],
      "metadata": {
        "colab": {
          "base_uri": "https://localhost:8080/"
        },
        "id": "n4dwPuNqlGBX",
        "outputId": "b08601e6-c507-45ba-a081-391eac8a60f9"
      },
      "execution_count": null,
      "outputs": [
        {
          "output_type": "stream",
          "name": "stdout",
          "text": [
            "313/313 [==============================] - 1s 4ms/step\n"
          ]
        },
        {
          "output_type": "execute_result",
          "data": {
            "text/plain": [
              "array([[6.8187578e-12, 5.2426219e-12, 1.8535947e-14, ..., 9.9999994e-01,\n",
              "        6.6942648e-18, 1.1543134e-10],\n",
              "       [3.0370698e-30, 1.3728511e-13, 9.9999994e-01, ..., 1.1553149e-26,\n",
              "        5.1899028e-19, 1.7081301e-32],\n",
              "       [6.4300090e-13, 9.9999970e-01, 1.3555298e-09, ..., 1.3091433e-07,\n",
              "        8.6888868e-10, 5.2926224e-13],\n",
              "       ...,\n",
              "       [5.0395756e-28, 1.1833608e-21, 5.2217203e-25, ..., 6.1087042e-16,\n",
              "        1.4715721e-19, 7.8819264e-13],\n",
              "       [4.7649542e-20, 1.5192230e-19, 6.0271836e-22, ..., 4.4873976e-13,\n",
              "        2.2828335e-07, 1.1248723e-19],\n",
              "       [2.6368568e-18, 2.0462716e-21, 9.5569411e-21, ..., 9.1892354e-30,\n",
              "        8.2865785e-19, 1.7937234e-22]], dtype=float32)"
            ]
          },
          "metadata": {},
          "execution_count": 52
        }
      ]
    },
    {
      "cell_type": "markdown",
      "source": [
        "\n",
        "\n",
        "---\n",
        "\n"
      ],
      "metadata": {
        "id": "QjJuA74HmBrt"
      }
    },
    {
      "cell_type": "markdown",
      "source": [
        "The line y_pred = y_prob.argmax(axis=1) takes the predicted probabilities generated by the model (y_prob) and extracts the class labels with the highest probability for each sample.\n",
        "\n",
        "eg. for the first test image the highest probability predicted by the model is 9.99 and it is for 7. So acc to model 1st test image is 7.\n"
      ],
      "metadata": {
        "id": "gI_ZlfS8k8sa"
      }
    },
    {
      "cell_type": "code",
      "source": [
        "y_pred = y_prob.argmax(axis=1)"
      ],
      "metadata": {
        "id": "5nELQpFrXQIi"
      },
      "execution_count": null,
      "outputs": []
    },
    {
      "cell_type": "code",
      "source": [
        "y_prob.argmax(axis=1)"
      ],
      "metadata": {
        "colab": {
          "base_uri": "https://localhost:8080/"
        },
        "id": "WNXnWvGmlCk-",
        "outputId": "a9827194-4eb0-4a80-9616-aeae36e48ee8"
      },
      "execution_count": null,
      "outputs": [
        {
          "output_type": "execute_result",
          "data": {
            "text/plain": [
              "array([7, 2, 1, ..., 4, 5, 6])"
            ]
          },
          "metadata": {},
          "execution_count": 51
        }
      ]
    },
    {
      "cell_type": "markdown",
      "source": [
        "#ACCURACY"
      ],
      "metadata": {
        "id": "2zeoLGqcn3I7"
      }
    },
    {
      "cell_type": "code",
      "source": [
        "from sklearn.metrics import accuracy_score\n",
        "accuracy_score(y_test,y_pred)"
      ],
      "metadata": {
        "colab": {
          "base_uri": "https://localhost:8080/"
        },
        "id": "jcyA9XVHXY6o",
        "outputId": "83f7a609-5912-497d-b737-d8ab82c6051f"
      },
      "execution_count": null,
      "outputs": [
        {
          "output_type": "execute_result",
          "data": {
            "text/plain": [
              "0.9789"
            ]
          },
          "metadata": {},
          "execution_count": 16
        }
      ]
    },
    {
      "cell_type": "markdown",
      "source": [
        "#PLOTTING TRAINING AND VALIDATION LOSS"
      ],
      "metadata": {
        "id": "dNiDE1Pun6nu"
      }
    },
    {
      "cell_type": "code",
      "source": [
        "plt.plot(history.history['loss'])     #(blue)\n",
        "plt.plot(history.history['val_loss'])   #(orange)"
      ],
      "metadata": {
        "colab": {
          "base_uri": "https://localhost:8080/",
          "height": 447
        },
        "id": "NT2HxBnDXv_V",
        "outputId": "7acff674-f4e0-42ad-861f-f8cffd8d76d4"
      },
      "execution_count": null,
      "outputs": [
        {
          "output_type": "execute_result",
          "data": {
            "text/plain": [
              "[<matplotlib.lines.Line2D at 0x7c0fdf625090>]"
            ]
          },
          "metadata": {},
          "execution_count": 17
        },
        {
          "output_type": "display_data",
          "data": {
            "text/plain": [
              "<Figure size 640x480 with 1 Axes>"
            ],
            "image/png": "[encoded data removed]"
          },
          "metadata": {}
        }
      ]
    },
    {
      "cell_type": "markdown",
      "source": [
        "#PLOTTING TRAINING AND VALIDATION ACCURACY"
      ],
      "metadata": {
        "id": "H513Y3Glo0Hx"
      }
    },
    {
      "cell_type": "code",
      "source": [
        "plt.plot(history.history['accuracy'])\n",
        "plt.plot(history.history['val_accuracy'])"
      ],
      "metadata": {
        "colab": {
          "base_uri": "https://localhost:8080/",
          "height": 447
        },
        "id": "Ln1DIjDOY8E7",
        "outputId": "4b7f4244-27d4-4492-a556-6e7265e5302c"
      },
      "execution_count": null,
      "outputs": [
        {
          "output_type": "execute_result",
          "data": {
            "text/plain": [
              "[<matplotlib.lines.Line2D at 0x7c0fdf207520>]"
            ]
          },
          "metadata": {},
          "execution_count": 18
        },
        {
          "output_type": "display_data",
          "data": {
            "text/plain": [
              "<Figure size 640x480 with 1 Axes>"
            ],
            "image/png": "[encoded data removed]"
          },
          "metadata": {}
        }
      ]
    },
    {
      "cell_type": "markdown",
      "source": [
        "#TRIAL\n",
        "\n",
        "8th image of X_test is 9, and the model gives predicted output as 9 which is correct."
      ],
      "metadata": {
        "id": "ieqdyY33ph8Q"
      }
    },
    {
      "cell_type": "code",
      "source": [
        "plt.imshow(X_test[7])"
      ],
      "metadata": {
        "colab": {
          "base_uri": "https://localhost:8080/",
          "height": 447
        },
        "id": "F0eTtwmSZGQn",
        "outputId": "75d9c348-4482-4fa9-d863-af1c2c473b8d"
      },
      "execution_count": null,
      "outputs": [
        {
          "output_type": "execute_result",
          "data": {
            "text/plain": [
              "<matplotlib.image.AxesImage at 0x7c0fecf26ad0>"
            ]
          },
          "metadata": {},
          "execution_count": 54
        },
        {
          "output_type": "display_data",
          "data": {
            "text/plain": [
              "<Figure size 640x480 with 1 Axes>"
            ],
            "image/png": "[encoded data removed]"
          },
          "metadata": {}
        }
      ]
    },
    {
      "cell_type": "code",
      "source": [
        "model.predict(X_test[7].reshape(1,28,28)).argmax(axis=1)"
      ],
      "metadata": {
        "colab": {
          "base_uri": "https://localhost:8080/"
        },
        "id": "mBKWjIxealMY",
        "outputId": "c5dbb665-74e4-4ae1-b462-8cdbd78e5bc0"
      },
      "execution_count": null,
      "outputs": [
        {
          "output_type": "stream",
          "name": "stdout",
          "text": [
            "1/1 [==============================] - 0s 38ms/step\n"
          ]
        },
        {
          "output_type": "execute_result",
          "data": {
            "text/plain": [
              "array([9])"
            ]
          },
          "metadata": {},
          "execution_count": 55
        }
      ]
    }
  ]
}